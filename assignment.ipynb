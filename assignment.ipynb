{
 "cells": [
  {
   "cell_type": "markdown",
   "id": "919d67f9-5a30-4eb8-be92-8e67482cdc3f",
   "metadata": {
    "tags": []
   },
   "source": [
    "### Data Acquisition and Processing Systems (DaPS) (ELEC0136)    \n",
    "# Final Assignment\n",
    "---"
   ]
  },
  {
   "cell_type": "markdown",
   "id": "cc5b0021-1259-41ab-bdbb-c076828cd77f",
   "metadata": {},
   "source": [
    "## Task 1: Data Acquisition"
   ]
  },
  {
   "cell_type": "code",
   "execution_count": 6,
   "id": "c614bfb6-cdf2-414c-9dee-ea8a8db97de4",
   "metadata": {},
   "outputs": [],
   "source": [
    "def acquire():\n",
    "    # Implement me, and remove the exception below.\n",
    "    # Make sure you return what you need.\n",
    "    raise NotImplementedError()"
   ]
  },
  {
   "cell_type": "markdown",
   "id": "26ea523a-6d00-46db-873b-476600070902",
   "metadata": {},
   "source": [
    "## Task 2: Data Storage "
   ]
  },
  {
   "cell_type": "code",
   "execution_count": null,
   "id": "224e0f8c-da42-4b91-a696-3c1f5d52ce89",
   "metadata": {},
   "outputs": [],
   "source": [
    "def store(data):\n",
    "    # Implement me, and remove the exception below.\n",
    "    # Make sure you return what you need.\n",
    "    raise NotImplementedError()"
   ]
  },
  {
   "cell_type": "markdown",
   "id": "bc93fdd1-7c24-403c-b36f-66906d29ebaa",
   "metadata": {},
   "source": [
    "## Task 3: Data processing"
   ]
  },
  {
   "cell_type": "code",
   "execution_count": null,
   "id": "9c5458b2-98ca-4301-8a58-7309b6e72cb9",
   "metadata": {},
   "outputs": [],
   "source": [
    "def process(data):\n",
    "    # Implement me, and remove the exception below.\n",
    "    # Make sure you return what you need.\n",
    "    raise NotImplementedError()"
   ]
  },
  {
   "cell_type": "markdown",
   "id": "166a02fb-ad30-4ac8-b45a-16ba63299839",
   "metadata": {},
   "source": [
    "## Task 4: Data exploration"
   ]
  },
  {
   "cell_type": "code",
   "execution_count": null,
   "id": "191b9ba6-7e5f-47dd-ba43-902b0972e2e0",
   "metadata": {},
   "outputs": [],
   "source": [
    "def explore(data):\n",
    "    # Implement me, and remove the exception below.\n",
    "    # Make sure you return what you need.\n",
    "    raise NotImplementedError()"
   ]
  },
  {
   "cell_type": "markdown",
   "id": "c3de2cc9-5f92-48b5-aa99-2c12dbf74990",
   "metadata": {},
   "source": [
    "## Task 5: Inference\n"
   ]
  },
  {
   "cell_type": "code",
   "execution_count": null,
   "id": "9d85b117-1d3e-46a0-ab2b-a031b0d05b55",
   "metadata": {},
   "outputs": [],
   "source": [
    "def train(model, train_data):\n",
    "    # Implement me, and remove the exception below.\n",
    "    # Make sure you return what you need.\n",
    "    raise NotImplementedError()"
   ]
  },
  {
   "cell_type": "code",
   "execution_count": null,
   "id": "7e30e9e7-b431-4e7b-9d2d-e5495e3ef8d1",
   "metadata": {},
   "outputs": [],
   "source": [
    "def evaluate(trained_model, val_data):\n",
    "    # Implement me, and remove the exception below.\n",
    "    # Make sure you return what you need.\n",
    "    raise NotImplementedError()"
   ]
  },
  {
   "cell_type": "markdown",
   "id": "c3b389aa-b4b3-47a1-8893-e24d38a60f9d",
   "metadata": {},
   "source": [
    "## Autorun"
   ]
  },
  {
   "cell_type": "code",
   "execution_count": 5,
   "id": "bfab70d1-6422-4441-a038-2a963f7158ae",
   "metadata": {},
   "outputs": [],
   "source": [
    "def main():\n",
    "    \"\"\"This function will be called to check that your work is reproducible, and it is the only function that will be called by us.\n",
    "    It should perform all the work that you used to support your Report, e.g. storing data, running experiments, saving figures.\"\"\"\n",
    "    raise NotImplementedError()"
   ]
  },
  {
   "cell_type": "code",
   "execution_count": null,
   "id": "2216cb62-0db6-4d91-bee3-5af833952b90",
   "metadata": {},
   "outputs": [],
   "source": []
  }
 ],
 "metadata": {
  "kernelspec": {
   "display_name": "Python 3 (ipykernel)",
   "language": "python",
   "name": "python3"
  },
  "language_info": {
   "codemirror_mode": {
    "name": "ipython",
    "version": 3
   },
   "file_extension": ".py",
   "mimetype": "text/x-python",
   "name": "python",
   "nbconvert_exporter": "python",
   "pygments_lexer": "ipython3",
   "version": "3.9.7"
  }
 },
 "nbformat": 4,
 "nbformat_minor": 5
}
